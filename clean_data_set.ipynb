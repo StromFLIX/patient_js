{
 "cells": [
  {
   "cell_type": "code",
   "execution_count": 5,
   "metadata": {},
   "outputs": [],
   "source": [
    "import pandas as pd\n",
    "import numpy as np\n",
    "\n",
    "def timeToTimestamp(element):\n",
    "    return pd.to_datetime(element, dayfirst=True).timestamp()\n",
    "\n",
    "df = pd.read_csv(\"dataset.csv\", sep=\";\")\n",
    "df = df[:93]\n",
    "df_change = pd.concat([df,pd.DataFrame(0, index=np.arange(len(df)), columns=[\"Tangle\"])], axis=1)\n",
    "df_time = df_change['Timestamp'].apply(timeToTimestamp)\n",
    "# for index, row in df_change.iterrows():\n",
    "#     t = pd.Timestamp(row['Timestamp'])\n",
    "#     row['Timestamp'] = t.timestamp()\n",
    "df_change2 = df_change.drop(['Timestamp'],axis=1)\n",
    "df_end =  pd.concat([df_change2,df_time], axis=1)\n",
    "df_end\n",
    "df_end.to_csv(\"dataset_clean.csv\")"
   ]
  },
  {
   "cell_type": "code",
   "execution_count": null,
   "metadata": {},
   "outputs": [],
   "source": []
  },
  {
   "cell_type": "code",
   "execution_count": null,
   "metadata": {},
   "outputs": [],
   "source": []
  }
 ],
 "metadata": {
  "kernelspec": {
   "display_name": "Python 3",
   "language": "python",
   "name": "python3"
  },
  "language_info": {
   "codemirror_mode": {
    "name": "ipython",
    "version": 3
   },
   "file_extension": ".py",
   "mimetype": "text/x-python",
   "name": "python",
   "nbconvert_exporter": "python",
   "pygments_lexer": "ipython3",
   "version": "3.6.4"
  }
 },
 "nbformat": 4,
 "nbformat_minor": 2
}
